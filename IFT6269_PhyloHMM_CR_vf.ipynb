{
  "cells": [
    {
      "cell_type": "markdown",
      "metadata": {
        "id": "mzMezoyG-ycj"
      },
      "source": [
        "# Phylogenetic HMM for genome annotation"
      ]
    },
    {
      "cell_type": "markdown",
      "metadata": {
        "id": "agv_Nd7N-nsk"
      },
      "source": [
        "**Implementation of the Gene finder Phylo-HMM model from the article A. Siepel and D. Haussler**\n",
        "\n",
        "(Siepel, A. and Haussler, D. Phylogenetic hidden markov models.\n",
        "Statistical Methods in Molecular Evolution, 3(3):325—-351,\n",
        "2005.)"
      ]
    },
    {
      "cell_type": "markdown",
      "metadata": {
        "id": "B0MY5k1IBh55"
      },
      "source": [
        "# I - Phylogenetic model and HMM algorithms"
      ]
    },
    {
      "cell_type": "markdown",
      "metadata": {
        "id": "lJX3T6VMBwTC"
      },
      "source": [
        "## I.1 - Felsenstein algorithm\n",
        "Dyn. programming algorithm for efficiently computing the likelihood of observations (alignment of DNA sequences) given a phylogenetic model"
      ]
    },
    {
      "cell_type": "code",
      "execution_count": 23,
      "metadata": {
        "id": "31eYrgDUBucQ"
      },
      "outputs": [],
      "source": [
        "import numpy as np\n",
        "from scipy.linalg import expm\n",
        "\n",
        "def felsenstein(Q, pi, tree, obs):\n",
        "    '''Computes the likelihood of an observation, given a phylogenetic tree defined by parameters Q, pi, tree,\n",
        "    using Felsenstein pruning algorithm.\n",
        "        Inputs:\n",
        "            - Q : the subsitution rate matrix.\n",
        "            - pi : the vector of background frequencies.\n",
        "            - tree (dict of nodes and children): the phylogenetic tree\n",
        "            - obs: the observations (alignment of sequences)\n",
        "        Output:\n",
        "            -  the likelihood of the observations given the tree.\n",
        "    '''\n",
        "    dynamic_probas = {}  # stores the likelihoods already computed at each node.\n",
        "\n",
        "    nb_nucleotides, n_species = obs.shape\n",
        "    observation = obs.copy()\n",
        "    x_index = np.arange(nb_nucleotides)\n",
        "    #helper function that recursively computes the intermediate likelihoods in the nodes of the tree\n",
        "    def intlikelihood(node):\n",
        "        if node in dynamic_probas: # if likelihood of node already computed\n",
        "            return dynamic_probas[node]\n",
        "        else:\n",
        "            childs = tree[node]\n",
        "            #if node has children (not leaf node)\n",
        "            if childs: # recursively computes the intermediate likelihoods\n",
        "                left_child = childs[0][\"node\"]\n",
        "                right_child = childs[1][\"node\"]\n",
        "                proba_left = intlikelihood(left_child)\n",
        "                proba_right = intlikelihood(right_child)\n",
        "                # substitution proba - left child\n",
        "                subs_prob_left = expm(childs[0][\"branch\"]*Q)\n",
        "                # substitution proba - right child\n",
        "                subs_prob_right = expm(childs[1][\"branch\"]*Q)\n",
        "                # computes right and left likelihoods terms\n",
        "                left_likelihood = subs_prob_left.dot(proba_left.T)\n",
        "                right_likelihood = subs_prob_right.dot(proba_right.T)\n",
        "                #likelihood of the parent node 'node'\n",
        "                return (left_likelihood*right_likelihood).T\n",
        "            else:\n",
        "                # leaf node\n",
        "                likelihood = np.zeros((nb_nucleotides, 4))\n",
        "                likelihood[x_index, np.floor(\n",
        "                    observation[:, node - 1]).astype('int')] = 1 # put a 1 in column (0,1,2,3) representing observation (one hot encoding)\n",
        "                return likelihood\n",
        "    # Felsenstein algo - fill the dynamic programming table with the computed intermediate likelihoods of each node\n",
        "    for node in tree:\n",
        "        dynamic_probas[node] = intlikelihood(node)\n",
        "    # return the likelihood of the root (= max key of the tree)\n",
        "    return dynamic_probas[max(tree.keys())].dot(pi)"
      ]
    },
    {
      "cell_type": "markdown",
      "metadata": {
        "id": "ztd9B9XJU0Px"
      },
      "source": [
        "## I.2 - Viterbi algorithm"
      ]
    },
    {
      "cell_type": "markdown",
      "source": [
        "Dynamic programming algo for computing the maximum likelihood path, given observations in a HMM"
      ],
      "metadata": {
        "id": "coaVSLWYx5UI"
      }
    },
    {
      "cell_type": "code",
      "execution_count": 24,
      "metadata": {
        "id": "eJXRshfAU4zv"
      },
      "outputs": [],
      "source": [
        "def log_alpha_recursion(X, A, log_eps, pi) :\n",
        "    \"\"\"\n",
        "    (Log) alpha recursion for a time-homogeneous HMM with Gaussian emissions\n",
        "\n",
        "    Inputs:\n",
        "        X: [Tx2] matrix of observations\n",
        "        A: [KxK] transition matrix\n",
        "        log_eps: [TxK] matrix of log emission probabilities:\n",
        "        pi: [Kx1] initial latent state distribution\n",
        "\n",
        "    Returns:\n",
        "        log_alpha: [TxK] vector containing log p(z_t , x_{1:t})\n",
        "    \"\"\"\n",
        "    T, K = log_eps.shape\n",
        "\n",
        "    #Initialization\n",
        "    log_alpha = np.zeros((T, K))\n",
        "    log_alpha[0,:] = log_eps[0,:] + np.log(pi)\n",
        "\n",
        "\n",
        "    for t in range(1, T):\n",
        "        for k in range(K):  # Loop over states\n",
        "            # Compute log-sum-exp for previous states\n",
        "            max_val = np.max(log_alpha[t-1, :] + np.log(A[k,:]))  # isolate the max for numerical stability\n",
        "            log_sum_exp = max_val + np.log(np.sum(np.exp(log_alpha[t-1, :] + np.log(A[k,:]) - max_val)))\n",
        "            log_alpha[t, k] = log_eps[t, k] + log_sum_exp\n",
        "\n",
        "    return log_alpha\n",
        "\n",
        "def log_beta_recursion(X, A, log_eps) :\n",
        "    \"\"\"\n",
        "    (Log) beta recursion for a time-homogeneous HMM with Gaussian emissions\n",
        "\n",
        "    Inputs:\n",
        "        X: [Tx2] matrix of observations\n",
        "        A: [KxK] transition matrix\n",
        "        log_eps: [TxK] matrix of log emission probabilities: log p(x_t | z_t = k)\n",
        "\n",
        "    Returns:\n",
        "        log_beta: [TxK] vector containing log p(x_{t+1:T} | z_t)\n",
        "    \"\"\"\n",
        "    T, K = log_eps.shape\n",
        "    log_beta = np.zeros((T,K))\n",
        "    #Initialization\n",
        "    log_beta[T-1,:] = 0 # (as beta = 1 in final step and log(1)= 0 )\n",
        "\n",
        "    # Recursion\n",
        "    for t in range(T-2, -1, -1):  # Loop backward from T-2 to 0\n",
        "        for k in range(K):  # Loop over current states\n",
        "            # Compute log-sum-exp for next states\n",
        "            max_val = np.max(log_eps[t+1, :] + np.log(A[:, k]) + log_beta[t+1, :])  # isolate the max for numerical stability\n",
        "            log_sum_exp = max_val + np.log(\n",
        "                np.sum(np.exp(log_eps[t+1, :] + np.log(A[:, k]) + log_beta[t+1, :] - max_val))\n",
        "            )\n",
        "            log_beta[t, k] = log_sum_exp\n",
        "    return log_beta\n",
        "\n",
        "\n",
        "def viterbi (A, b,log_eps):\n",
        "    \"\"\"\n",
        "    Viterbi decoding for HMM\n",
        "\n",
        "    Inputs:\n",
        "\n",
        "        b: [Kx1] initial latent state distribution\n",
        "        A: [KxK] transition matrix\n",
        "        log_eps: [TxK] matrix of log emission probabilities\n",
        "\n",
        "    Returns:\n",
        "        z: [TxK] one-hot encoding of most probable state sequence z_{1:T} given x_{1:T}\n",
        "    \"\"\"\n",
        "\n",
        "    T, K = log_eps.shape\n",
        "\n",
        "    # dynamic programming table V and Traceback of maximum states\n",
        "    V = np.zeros((T, K))  # V[t, k] stores the max log - probability of path z_1 ... z_t ending in state k at time t\n",
        "    traceback = np.zeros((T, K), dtype=int)  # traceback the states corresponding to argmax, to enable retracing the max lilklihood path.\n",
        "\n",
        "    # Initialization\n",
        "    for k in range(K):\n",
        "        V[0, k] = np.log(b[k]) + log_eps[0, k]  # log probabilities\n",
        "        traceback[0, k] = -1  # No traceback for the first step\n",
        "\n",
        "    # Recursion step\n",
        "    for t in range(1, T):\n",
        "        for k in range(K):\n",
        "            # Compute the maximum log-probability for reaching state k at time t\n",
        "            max_prob = -np.inf\n",
        "            max_state = 0\n",
        "            for j in range(K):\n",
        "                prob = V[t - 1, j] + np.log(A[j, k]) + log_eps[t, k]\n",
        "                if prob > max_prob:\n",
        "                    max_prob = prob\n",
        "                    max_state = j\n",
        "            V[t, k] = max_prob\n",
        "            traceback[t, k] = max_state\n",
        "\n",
        "\n",
        "\n",
        "    # Termination step\n",
        "    z = np.zeros((T, K), dtype=int) # initialize most probable path to 0s\n",
        "    #Find the final state with the highest probability\n",
        "    z[T-1, np.argmax(V[T-1,:])] = 1\n",
        "\n",
        "    # Backtracking step\n",
        "    for t in range(T - 2, -1, -1):\n",
        "        z[t, traceback[t + 1, np.argmax(z[t + 1,:])]] = 1\n",
        "\n",
        "    return z"
      ]
    },
    {
      "cell_type": "markdown",
      "metadata": {
        "id": "2aKtWMEUGuGO"
      },
      "source": [
        "# II - Simulation algorithms"
      ]
    },
    {
      "cell_type": "markdown",
      "metadata": {
        "id": "mKB6nCjPgx_S"
      },
      "source": [
        "## Step1 - Synthetic data generation"
      ]
    },
    {
      "cell_type": "code",
      "execution_count": 25,
      "metadata": {
        "id": "LGdjApst2n2U"
      },
      "outputs": [],
      "source": [
        "import numpy as np\n",
        "from scipy.linalg import expm\n",
        "from copy import deepcopy\n",
        "import argparse\n",
        "\n",
        "def generate_data(A, b, pi, kappa,\n",
        "                  trees, number_of_nucleotids):\n",
        "    \"\"\"\n",
        "    Generate a synthetic dataset with aligned DNA sequences between species of a phylo tree,  and the list of Ground truth states\n",
        "    Args :\n",
        "           - A (np array : nbState, nbState) state transition matrix\n",
        "           - b (np array: nbState) initial states probability\n",
        "           - pi (np array : nbState, alphabetSize) nucleotids background\n",
        "            frequencies, for each hidden state\n",
        "           - kappa (nparray: size nbState) translation vs transversion rate per state\n",
        "           - tree (dict) phylogenetic tree topology\n",
        "           - number_of_nucleotids (int) number of nucleotid in each DNA sequence\n",
        "    returns :\n",
        "           - sequences (list of np array: npSpecies, number_of_nucleotids) list of sequences of nucleotids, one for each species\n",
        "           - states (np array: number_of_nucleotids) list of ground\n",
        "               truth states for each sie\n",
        "    \"\"\"\n",
        "    Q = rates_HKY(pi, kappa)\n",
        "\n",
        "    # step1: Generate hidden states\n",
        "    states = generate_states(A, b, number_of_nucleotids)\n",
        "    # step2: generate ancestral sequence\n",
        "    X = generate_ancestral_seq(pi, states)\n",
        "    # step 3: make the ancestral sequence evolve along the tree --> nspecies sequences\n",
        "    sequences = evolution(X, states, trees, Q)\n",
        "    return sequences, states\n",
        "\n",
        "def generate_states(A, b, nbNucleotids):\n",
        "    ''' Generate a path of ground truth states using the initial state probas and the transition matrix\n",
        "        Args:\n",
        "            - A (np matrix) state transition matrix\n",
        "            - b (nparray) initial probas for the hidden states\n",
        "            - nbNucleotids (int) length of the DNA sequence to generate\n",
        "        Output:\n",
        "            - np.array of int from 0 to nbState-1\n",
        "    '''\n",
        "    states = np.empty(nbNucleotids, dtype=np.uint8)\n",
        "    nbState = A.shape[0]\n",
        "\n",
        "    # draw the first state using probas in b\n",
        "    cumul = np.cumsum(b)\n",
        "    x = np.random.rand(1)[0]\n",
        "    index = 0\n",
        "    while x > cumul[index]:\n",
        "        index += 1\n",
        "    states[0] = index\n",
        "\n",
        "    # draw next state using the state transition matrix\n",
        "    for i in range(nbNucleotids-1):\n",
        "        cumul = np.cumsum(A[states[i]])\n",
        "        x = np.random.rand(1)[0]\n",
        "        index = 0\n",
        "        while x > cumul[index]:\n",
        "            index += 1\n",
        "        states[i+1] = index\n",
        "    return states\n",
        "\n",
        "\n",
        "\n",
        "def generate_ancestral_seq(pi, states):\n",
        "    '''Generate the ancestral sequence of nucleotids based on hidden states and background nucleotide frequencies pi\n",
        "        Args:\n",
        "            - pi (nparray : nbState, alphabetSize) background nucleotides\n",
        "            frequencies, for each state\n",
        "            - states (nparray: nbNucleotids), hidden states for each position inn the sequence\n",
        "        Output:\n",
        "            - np.array with values between 0 and 3 (representing nucleotides : A, C, G, T)\n",
        "\n",
        "    '''\n",
        "    nbState, alphabetSize = pi.shape\n",
        "    nbNucleotids = states.shape[0]\n",
        "    # cumulative probas\n",
        "    cumsum = np.cumsum(pi, axis=1)\n",
        "    #generate rdm values\n",
        "    random_values = np.random.rand(nbNucleotids)\n",
        "    X = np.zeros(nbNucleotids, dtype=np.uint8)\n",
        "    # draw nucleotides based on the random values, and the cumulative probas (matrix computation)\n",
        "    for i in range(alphabetSize):\n",
        "        X[random_values < cumsum[states, i]] = i\n",
        "        # set the rdm values lower than cumsum[i] to 1 (to avoid overwriting nucleotides at the next iter)\n",
        "        random_values[random_values < cumsum[states, i]] = 1\n",
        "    return X\n",
        "\n",
        "\n",
        "\n",
        "def rates_HKY(pi, kappa):\n",
        "    \"\"\" substitution rates matrix based on the HKY model - for each states\n",
        "    Args :\n",
        "            - pi (np array : nbState, alphabetSize) nucleotids background\n",
        "            frequencies, for each state\n",
        "           - kappa (np array, nbStates) translation/transversion rate\n",
        "    returns : Q (np array: nbStates x alphabetSize x alphabetSize)\n",
        "    substitution rates matrix for each state\n",
        "    \"\"\"\n",
        "    nbState = len(kappa)\n",
        "    alphabetSize = pi.shape[1]\n",
        "    Q = np.zeros((nbState, alphabetSize, alphabetSize))\n",
        "    for j in range(nbState):\n",
        "        for i in range(alphabetSize):\n",
        "            Q[j, i, :] = pi[j]\n",
        "            Q[j, i, (i + 2) % alphabetSize] *= kappa[j]\n",
        "            # compute each diagonal term s.t.the rows sums to 0 (sum of proba of substitution for all possible nucle = 1)\n",
        "            Q[j, i, i] -= np.sum(Q[j, i, :])\n",
        "    return Q\n",
        "\n",
        "def evolution(seq, states, tree, Q):\n",
        "    ''' make the ancestral sequence seq evolve along the phylogenetic tree, using substitution probas Q\n",
        "        Args:\n",
        "            - seq (np array):  ancestral sequence of nucleotides\n",
        "            - tree: Phylogenetic tree\n",
        "            - states (np array): sequence of states\n",
        "            - Q (nparray ): substitution rate matrix\n",
        "        Output:\n",
        "            - nspecies sequences (1 per tree leaf), after evolution\n",
        "    '''\n",
        "    nbState = Q.shape[0]\n",
        "    alphabetSize = Q.shape[1]\n",
        "# auxiliary function (recursive) to evolve from 1 node to its children nodes\n",
        "    def evolve(node, sequence):\n",
        "        children = tree[node]\n",
        "        if children: # if not leaf node\n",
        "            res = []\n",
        "            for c in range(len(children)):\n",
        "                new_Q = np.zeros_like(Q)\n",
        "                # compute probability matrices for every state for  branches\n",
        "                for j in range(nbState):\n",
        "                    new_br = tree[node][c][\"branch\"]\n",
        "                    new_Q[j] = expm(new_br * Q[j])\n",
        "\n",
        "                new_strand = np.zeros_like(sequence)\n",
        "                # the new sequence is drawn randomly from the previous one\n",
        "                # using the probability matrix\n",
        "                cumul = np.cumsum(new_Q, axis=2) # cumulative substitution probas new_Q [nb_state * nb nuclotides]\n",
        "                random_values = np.random.rand(sequence.shape[0]) #draw rdm values for all positions in stands\n",
        "                # vectorial discrete draw\n",
        "                for i in range(alphabetSize): # define substitution nucleotide for each state in states, and nucleotide in strand\n",
        "                    new_strand[random_values < cumul[states, sequence, i]] = i\n",
        "                    random_values[random_values < cumul[states, sequence, i]] = 1 #set the rdm value to 1\n",
        "                #go to the next node\n",
        "                new_child = children[c][\"node\"]\n",
        "                res += evolve(new_child, new_strand) # call the function recursively on the new child, and new strand generated\n",
        "            return res\n",
        "        else: #leaf node\n",
        "            return [sequence]\n",
        "    return evolve(max(tree.keys()), seq) #start the recursive function at root of tree, with initial strand X\n",
        "\n"
      ]
    },
    {
      "cell_type": "markdown",
      "metadata": {
        "id": "8xgu6ekxg3qE"
      },
      "source": [
        "## Step2 - Predictions"
      ]
    },
    {
      "cell_type": "code",
      "execution_count": 26,
      "metadata": {
        "id": "hQ-7vmtA23_q"
      },
      "outputs": [],
      "source": [
        "import random\n",
        "from copy import deepcopy\n",
        "\n",
        "import numpy as np\n",
        "\n",
        "def predict_path(seqs, tree, A, b, pi, kappa):\n",
        "    '''\n",
        "    predicts the max likelihood path given an alignment of sequences, using a phylo-HMM model.\n",
        "    '''\n",
        "\n",
        "    nbState = A.shape[0]\n",
        "    n_species = len(seqs)\n",
        "    number_of_nucleotids = len(seqs[0])\n",
        "\n",
        "    Qs = rates_HKY(pi, kappa)\n",
        "    # Compute likelihoods with Felsenstein algorithm\n",
        "    log_likelihoods = np.zeros((number_of_nucleotids,nbState))\n",
        "    obs = np.zeros((number_of_nucleotids, n_species))\n",
        "    for i in range(n_species):\n",
        "        obs[:, i] = seqs[i]\n",
        "    for state in range(nbState):\n",
        "        Q = Qs[state]\n",
        "        p = pi[state]\n",
        "        log_likelihoods[:,state] = np.log(felsenstein(Q, p, tree, obs))\n",
        "\n",
        "    # Viterbi algo\n",
        "    return viterbi(A, b, log_likelihoods)\n",
        "\n",
        "\n",
        "def predict_path_HMM(seqs, A, b, pi):\n",
        "    '''\n",
        "   predicts the max likelihood path given an alignment of sequences, using a standard HMM model.\n",
        "    '''\n",
        "\n",
        "    nbState = A.shape[0]\n",
        "    number_of_nucleotids = len(seqs[0])\n",
        "    n_species = len(seqs)\n",
        "    obs = np.zeros((number_of_nucleotids, n_species))\n",
        "    for i in range(n_species):\n",
        "        obs[:, i] = seqs[i]\n",
        "    log_likelihoods = np.zeros((number_of_nucleotids,nbState))\n",
        "    for state in range(nbState):\n",
        "      for k in range(n_species):\n",
        "        for nuc in range(number_of_nucleotids):\n",
        "          p = pi[state,int(obs[nuc,k])]\n",
        "          log_likelihoods[nuc,state] += np.log(p) #add the log likelihood of all species in the the alignments\n",
        "    # Viterbi algo\n",
        "    return viterbi(A, b, log_likelihoods)\n",
        "\n",
        "\n",
        "# function to create a sub tree from original phylogenetic tree, with only a subset of nodes (given in list_of_species)\n",
        "# used to test the impact of number of species observed on gene prediction accuracy with phylo-HMM\n",
        "\n",
        "def sub_tree(tree, list_of_species):\n",
        "    \"\"\"\n",
        "    keep only the species specified in a list and return the pruned tree\n",
        "    Args :\n",
        "           - tree (dict)\n",
        "           - list_of_species (list of int) : list of selected nodes in the phylogenetic tree\n",
        "    \"\"\"\n",
        "    #create a copy of original tree, that will be pruned based on selected nodes\n",
        "    tree_copy = deepcopy(tree)\n",
        "\n",
        "## auxiliary function that recursively remove or keep the nodes of the tree, based on list of species\n",
        "    def used_nodes(node):\n",
        "        children = tree[node]\n",
        "        if children:  # propagate recursively\n",
        "            for child in children:\n",
        "                used_nodes(child[\"node\"])\n",
        "\n",
        "            for child in children:\n",
        "                new_child = child[\"node\"]\n",
        "                if new_child not in list_of_species and not tree_copy[new_child]:\n",
        "                    # remove child if not used in subtree\n",
        "                    tree_copy[node].remove(child)\n",
        "                    # delete unused leaves\n",
        "                    tree_copy.pop(new_child, None)\n",
        "\n",
        "    # start the node selectioon at the root of the tree\n",
        "    used_nodes(max(tree_copy.keys()))\n",
        "\n",
        "    # merge unused intermediary node (with only one child)\n",
        "    def merge_unused(node, ancestor_list):\n",
        "        if(len(tree_copy[node]) == 1):\n",
        "            child = tree_copy[node][0][\"node\"]\n",
        "            # if the child has ancestor : remove node\n",
        "            if ancestor_list:\n",
        "                branch_length = tree_copy[node][0][\"branch\"]\n",
        "                parent = ancestor_list[0]\n",
        "                siblings = tree_copy[parent]\n",
        "                for sibling in siblings:\n",
        "                    if sibling['node'] == node:\n",
        "                        sibling['node'] = child\n",
        "                        sibling['branch'] += branch_length\n",
        "                # child ancestor = node's ancestor\n",
        "                merge_unused(child, ancestor_list)\n",
        "            # if the child has no grand parent but has children\n",
        "            elif tree_copy[tree_copy[node][0][\"node\"]]:\n",
        "                tree_copy[child][0][\"branch\"] += tree_copy[node][0][\"branch\"]\n",
        "                merge_unused(child, [])\n",
        "            tree_copy.pop(node, None)\n",
        "        elif len(tree_copy[node]) == 2:\n",
        "            merge_unused(tree_copy[node][0][\"node\"], [node] + ancestor_list)\n",
        "            merge_unused(tree_copy[node][1][\"node\"], [node] + ancestor_list)\n",
        "\n",
        "    merge_unused(max(tree_copy.keys()), [])\n",
        "    tree_renamed = {}\n",
        "\n",
        "    def rename(node):\n",
        "        # rename nodes of the pruned tree (to keep all indices <= 2*n -1)\n",
        "        children = tree_copy[node]\n",
        "        for child in children:\n",
        "            child_node = child[\"node\"]\n",
        "            child[\"node\"] = sorted(tree_copy.keys()).index(child_node)+1\n",
        "            rename(child_node)  # rename child first\n",
        "        # rename current node\n",
        "        node_renamed = sorted(tree_copy.keys()).index(node)+1\n",
        "        tree_renamed[node_renamed] = tree_copy[node]\n",
        "\n",
        "    rename(max(tree_copy.keys()))\n",
        "    return tree_renamed"
      ]
    },
    {
      "cell_type": "code",
      "execution_count": 27,
      "metadata": {
        "id": "nR352w03qL8y"
      },
      "outputs": [],
      "source": [
        "def compute_metrics(actual_path, predicted_path):\n",
        "    \"\"\"\n",
        "    Compute nucleotide-level sensitivity and specificity\n",
        "\n",
        "    Args:\n",
        "        actual_path (list or np.array): True states (e.g., 0 for non-coding, 1 for gene).\n",
        "        predicted_path (list or np.array): Predicted states (e.g., 0 for non-coding, 1 for gene).\n",
        "\n",
        "    Returns:\n",
        "        sensitivity (float): Portion correctly predicted of sites actually in genes.\n",
        "        specificity (float): Portion correctly predicted of sites predicted to be in genes.\n",
        "\n",
        "    \"\"\"\n",
        "    # Convert to numpy arrays for vectorized operations\n",
        "    actual_path = np.array(actual_path)\n",
        "    predicted_path = np.array(predicted_path)\n",
        "\n",
        "    # Calculate True Positives, True Negatives, False Positives, False Negatives\n",
        "    TP = np.sum((actual_path == 1) & (predicted_path == 1))\n",
        "    TN = np.sum((actual_path == 0) & (predicted_path == 0))\n",
        "    FP = np.sum((actual_path == 0) & (predicted_path == 1))\n",
        "    FN = np.sum((actual_path == 1) & (predicted_path == 0))\n",
        "\n",
        "    # Calculate metrics\n",
        "    sensitivity = TP / (TP + FN) if (TP + FN) > 0 else 0\n",
        "    specificity = TP / (TP + FP) if (TP + FP) > 0 else 0\n",
        "\n",
        "    return sensitivity, specificity\n",
        "\n"
      ]
    },
    {
      "cell_type": "code",
      "execution_count": 28,
      "metadata": {
        "id": "-jH0bLoMQhwk"
      },
      "outputs": [],
      "source": [
        "import matplotlib.pyplot as plt\n",
        "import matplotlib.pyplot as plt\n",
        "\n",
        "def plot_all_results(sens, spec, sens1, spec1,\n",
        "                     title=\"Predictions accuracy with the number of species - PhyloHMM and HMM\"):\n",
        "    n_species = sens.shape[1]  # Determine the number of species from the data\n",
        "\n",
        "    plt.figure(figsize=(8, 6))  # Adjust figure size\n",
        "    plt.ylim([0, 1])  # Set Y-axis range\n",
        "    plt.xlabel('Number of Species')\n",
        "    plt.ylabel('Accuracy metrics')\n",
        "\n",
        "    # Plot sensitivity and specificity\n",
        "    plt.plot(range(1, n_species + 1), sens.mean(axis=0), 'b-', linewidth=1, marker='^', label=\"Sensitivity- PhyloHMM\")\n",
        "    plt.plot(range(1, n_species + 1), spec.mean(axis=0), 'b-', linewidth=1, marker='o', label=\"Specificity - PhyloHMM\")\n",
        "\n",
        "    # Plot sensitivity1 and specificity1\n",
        "    plt.plot(range(1, n_species + 1), sens1.mean(axis=0), 'g--', linewidth=1,marker='^', label=\"Sensitivity - HMM\")\n",
        "    plt.plot(range(1, n_species + 1), spec1.mean(axis=0), 'g--', linewidth=1,marker='o', label=\"Specificity- HMM\")\n",
        "\n",
        "    # Add title and legend\n",
        "    plt.title(title)\n",
        "    plt.legend(loc=\"lower right\", borderaxespad=1)\n",
        "\n",
        "    # Show the plot\n",
        "   # plt.grid()\n",
        "    plt.show()\n",
        "\n"
      ]
    },
    {
      "cell_type": "markdown",
      "metadata": {
        "id": "5kdCEPD-To8N"
      },
      "source": [
        "# III - Tests on synthetic data"
      ]
    },
    {
      "cell_type": "markdown",
      "metadata": {
        "id": "65WfcjJvUaX-"
      },
      "source": [
        "## III.1 - Model Parameters"
      ]
    },
    {
      "cell_type": "markdown",
      "source": [
        "### HMM model"
      ],
      "metadata": {
        "id": "qNTsw2jurO1g"
      }
    },
    {
      "cell_type": "code",
      "execution_count": 29,
      "metadata": {
        "id": "1tcr9PTRURQK"
      },
      "outputs": [],
      "source": [
        "alphabet = ['A', 'C', 'G','T']\n",
        "alphabetSize = len(alphabet)\n",
        "nbState = 4\n",
        "\n",
        "# transition matrix of the toy gene finder\n",
        "A = np.zeros((nbState, nbState))\n",
        "A[0, 1] = 1\n",
        "A[1, 2] = 1\n",
        "A[2, 3] = 0.011\n",
        "A[2, 0] = 1 - A[2, 3]\n",
        "A[3, 3] = 0.9  # 0.9999 in the paper, increased here to get more genes results in 71 genes for 100000 nucleotide sequences\n",
        "A[3, 0] = 1 - A[3, 3]\n",
        "\n",
        "# state initial probability (assume uniform distribution, as in paper)\n",
        "b = np.array([0.25, 0.25, 0.25, 0.25])\n",
        "\n",
        "# Nucleotide frequencies for s_1, s_2, s_3, s_4, based on average genome empirical data\n",
        "pi_2 = np.array([\n",
        "    [0.35, 0.15, 0.15, 0.35],  # s_1\n",
        "    [0.20, 0.30, 0.20, 0.30],  # s_2\n",
        "    [0.26, 0.24, 0.24, 0.26],  # s_3\n",
        "    [0.30, 0.20, 0.20, 0.30]   # s_4\n",
        "])\n",
        "# Nucleotide frequencies for s_1, s_2, s_3, s_4, based on simple phylo-HMM 3 states model (from Siepel and Haussler paper)\n",
        "pi_1 = np.array([[0.39, 0.12, 0.11,  0.38],\n",
        "                 [0.32, 0.18,  0.27,  0.23],\n",
        "                 [0.22, 0.28, 0.28, 0.22],\n",
        "                 [0.09, 0.42, 0.39, 0.10]])\n",
        "\n"
      ]
    },
    {
      "cell_type": "markdown",
      "metadata": {
        "id": "BxJ0bdMo1lTX"
      },
      "source": [
        "###Phylogenetic Tree"
      ]
    },
    {
      "cell_type": "markdown",
      "metadata": {
        "id": "rTU0wnYI85GN"
      },
      "source": [
        "![image.png](data:image/png;base64,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)"
      ]
    },
    {
      "cell_type": "code",
      "execution_count": 30,
      "metadata": {
        "id": "tmxyE0UBShEO"
      },
      "outputs": [],
      "source": [
        "#Phylogenetic model\n",
        "# Phylogenetic tree structure and branch lengths from Siepel and Haussler paper\n",
        "\n",
        "tree_a = {\n",
        "        15: [{\"node\": 13, \"branch\": 0.0299}, {\"node\": 14, \"branch\": 0.0269}],\n",
        "        14: [{\"node\": 11, \"branch\": 0.0392}, {\"node\": 12, \"branch\": 0.0567}],\n",
        "        13: [{\"node\": 9, \"branch\": 0.0939}, {\"node\": 10, \"branch\": 0.3220}],\n",
        "        12: [{\"node\": 7, \"branch\": 0.0852}, {\"node\": 8, \"branch\": 0.1077}],\n",
        "        11: [{\"node\": 5, \"branch\": 0.1228}, {\"node\": 6, \"branch\": 0.1150}],\n",
        "        10: [{\"node\": 3, \"branch\": 0.0767}, {\"node\": 4, \"branch\": 0.0847}],\n",
        "        9: [{\"node\": 1, \"branch\": 0.0238}, {\"node\": 2, \"branch\": 0.0331}],\n",
        "        1: [], 2: [], 3: [], 4: [], 5: [], 6: [], 7: [], 8: []\n",
        "      }\n",
        "\n",
        "# transition/transversion rate (transversions more frequent in 3rd codon position and intergenic vs 1st and 2nd codons)\n",
        "kappa = np.array([2.3, 2.7, 4.3, 5.4])"
      ]
    },
    {
      "cell_type": "code",
      "execution_count": 31,
      "metadata": {
        "colab": {
          "base_uri": "https://localhost:8080/"
        },
        "id": "K--6vK7DFw2t",
        "outputId": "0dbab835-f306-4ae7-8e32-323dd892eaaa"
      },
      "outputs": [
        {
          "output_type": "stream",
          "name": "stdout",
          "text": [
            "[[[-0.753  0.12   0.253  0.38 ]\n",
            "  [ 0.39  -1.374  0.11   0.874]\n",
            "  [ 0.897  0.12  -1.397  0.38 ]\n",
            "  [ 0.39   0.276  0.11  -0.776]]\n",
            "\n",
            " [[-1.139  0.18   0.729  0.23 ]\n",
            "  [ 0.32  -1.211  0.27   0.621]\n",
            "  [ 0.864  0.18  -1.274  0.23 ]\n",
            "  [ 0.32   0.486  0.27  -1.076]]\n",
            "\n",
            " [[-1.704  0.28   1.204  0.22 ]\n",
            "  [ 0.22  -1.446  0.28   0.946]\n",
            "  [ 0.946  0.28  -1.446  0.22 ]\n",
            "  [ 0.22   1.204  0.28  -1.704]]\n",
            "\n",
            " [[-2.626  0.42   2.106  0.1  ]\n",
            "  [ 0.09  -1.02   0.39   0.54 ]\n",
            "  [ 0.486  0.42  -1.006  0.1  ]\n",
            "  [ 0.09   2.268  0.39  -2.748]]]\n",
            "[[[0.76513211 0.03956159 0.07002791 0.12527838]\n",
            "  [0.12857518 0.59324542 0.03626479 0.2419146 ]\n",
            "  [0.24828078 0.03956159 0.58687925 0.12527838]\n",
            "  [0.12857518 0.07639409 0.03626479 0.75876594]]\n",
            "\n",
            " [[0.67443952 0.05934239 0.1903917  0.07582639]\n",
            "  [0.10549759 0.63817026 0.08901359 0.16731857]\n",
            "  [0.22564942 0.05934239 0.63918179 0.07582639]\n",
            "  [0.10549759 0.13094496 0.08901359 0.67454386]]\n",
            "\n",
            " [[0.56148566 0.09231039 0.27367436 0.07252959]\n",
            "  [0.07252959 0.62013017 0.09231039 0.21502985]\n",
            "  [0.21502985 0.09231039 0.62013017 0.07252959]\n",
            "  [0.07252959 0.27367436 0.09231039 0.56148566]]\n",
            "\n",
            " [[0.38935499 0.13846558 0.43921144 0.032968  ]\n",
            "  [0.0296712  0.73149728 0.12857518 0.11025634]\n",
            "  [0.10135649 0.13846558 0.72720994 0.032968  ]\n",
            "  [0.0296712  0.46307664 0.12857518 0.37867698]]]\n"
          ]
        }
      ],
      "source": [
        "Qs = rates_HKY(pi_1, kappa)\n",
        "print(Qs)\n",
        "print(expm(Qs*0.4))"
      ]
    },
    {
      "cell_type": "markdown",
      "metadata": {
        "id": "xzTraE9daMJe"
      },
      "source": [
        "## III.2 - Test on 1 sample"
      ]
    },
    {
      "cell_type": "markdown",
      "source": [
        "### Generate data"
      ],
      "metadata": {
        "id": "sBZv6pNUs4Fw"
      }
    },
    {
      "cell_type": "code",
      "execution_count": 32,
      "metadata": {
        "id": "M-DEgrZ7aS1T"
      },
      "outputs": [],
      "source": [
        "# generate sequences for each species\n",
        "L = 100000\n",
        "strands, states = generate_data(A, b, pi_2, kappa, tree_a, L)\n"
      ]
    },
    {
      "cell_type": "code",
      "execution_count": 33,
      "metadata": {
        "colab": {
          "base_uri": "https://localhost:8080/",
          "height": 467
        },
        "id": "WV07cl1gby7M",
        "outputId": "f5512195-29b2-4c03-bd56-5567b3135011"
      },
      "outputs": [
        {
          "output_type": "execute_result",
          "data": {
            "text/plain": [
              "[<matplotlib.lines.Line2D at 0x7ad90031edd0>]"
            ]
          },
          "metadata": {},
          "execution_count": 33
        },
        {
          "output_type": "display_data",
          "data": {
            "text/plain": [
              "<Figure size 640x480 with 1 Axes>"
            ],
            "image/png": "[encoded data removed]"
          },
          "metadata": {}
        }
      ],
      "source": [
        "#plot states\n",
        "import matplotlib.pyplot as plt\n",
        "plt.plot(states[:10000])"
      ]
    },
    {
      "cell_type": "code",
      "execution_count": 34,
      "metadata": {
        "colab": {
          "base_uri": "https://localhost:8080/"
        },
        "id": "8pBXsxT5dcsv",
        "outputId": "1f358b9f-30d2-4a13-9bb8-57509864388f"
      },
      "outputs": [
        {
          "output_type": "stream",
          "name": "stdout",
          "text": [
            "number of genes in sample:  354\n"
          ]
        }
      ],
      "source": [
        "# count number of genes in states (defined by 3 followed by 0)\n",
        "prev = 0\n",
        "genes = 0\n",
        "for i in range(L):\n",
        "  curr = states[i]\n",
        "  #print(curr)\n",
        "  if prev == 3 and curr == 0:\n",
        "    genes += 1\n",
        "  prev = curr\n",
        "print('number of genes in sample: ', genes)\n"
      ]
    },
    {
      "cell_type": "code",
      "execution_count": 35,
      "metadata": {
        "colab": {
          "base_uri": "https://localhost:8080/"
        },
        "id": "uGvrfN8cgfa8",
        "outputId": "79b5f06a-ad4a-4d35-d04c-4582811819a6"
      },
      "outputs": [
        {
          "output_type": "stream",
          "name": "stdout",
          "text": [
            "average gene length:  272.20338983050846\n"
          ]
        }
      ],
      "source": [
        "#average gene length\n",
        "gene_length =[]\n",
        "prev = 0\n",
        "gene = 0\n",
        "length = 0\n",
        "for i in range(L):\n",
        "  curr = states[i]\n",
        "  #print(curr)\n",
        "  if prev == 3 and curr == 0:\n",
        "    gene += 1\n",
        "    length = 0\n",
        "  if curr == 2:\n",
        "    length += 3 # increment length\n",
        "  if prev == 2 and curr == 3:\n",
        "    gene_length.append(length)\n",
        "  prev = curr\n",
        "print('average gene length: ', np.mean(gene_length))\n"
      ]
    },
    {
      "cell_type": "markdown",
      "source": [
        "Print an example of alignment generated"
      ],
      "metadata": {
        "id": "_mr8KsgcnMxu"
      }
    },
    {
      "cell_type": "code",
      "source": [
        "def translate_strand(strand):\n",
        "    # Map integers to nucleotide bases\n",
        "    nucleotide_map = {0: 'A', 1: 'C', 2: 'G', 3: 'T'}\n",
        "\n",
        "    # Translate the strand\n",
        "    return ''.join([nucleotide_map[i] for i in strand])"
      ],
      "metadata": {
        "id": "g0-F0snZ6Idw"
      },
      "execution_count": 36,
      "outputs": []
    },
    {
      "cell_type": "code",
      "source": [
        "for i in range(len(strands)):\n",
        "  print(translate_strand(strands[i])[:35])\n",
        "#  print(states[:35])"
      ],
      "metadata": {
        "colab": {
          "base_uri": "https://localhost:8080/"
        },
        "id": "84GKmxOr6N6U",
        "outputId": "ea8a52d3-803b-40e8-86c1-416331b0ad8f"
      },
      "execution_count": 37,
      "outputs": [
        {
          "output_type": "stream",
          "name": "stdout",
          "text": [
            "TTTTTAATCTTGAGATTATTTATGTTGTTTATAGA\n",
            "TCTTTAATCTTGAGATTATCTATGTCGTCTTCAGA\n",
            "TCCTCTACCCATAGAATATATCCATTTCTTTCGGT\n",
            "TACTCTACCTAAAGGCTGTACCCATTTCTCTCAGT\n",
            "TTTTTAATCTAGAGGTTATATCTATTGATTTTGAA\n",
            "CCTTCAACCTAGCGGTTGTATCCATCTATTTTGGA\n",
            "TCTTCAACCTAGAGGTTAGATCGGTTCCCTTTAGA\n",
            "CCTTCAACTTAGAGGCTAGATCGTTCTCCTTTGGA\n"
          ]
        }
      ]
    },
    {
      "cell_type": "markdown",
      "metadata": {
        "id": "H3Eal52Bh66K"
      },
      "source": [
        "### Predict genes"
      ]
    },
    {
      "cell_type": "code",
      "execution_count": 38,
      "metadata": {
        "colab": {
          "base_uri": "https://localhost:8080/"
        },
        "id": "sCDIfxnwiEc8",
        "outputId": "c4946967-ce38-4c1a-e1a7-de4b7d2e1ad2"
      },
      "outputs": [
        {
          "output_type": "stream",
          "name": "stderr",
          "text": [
            "<ipython-input-24-36975b3e1eb5>:91: RuntimeWarning: divide by zero encountered in log\n",
            "  prob = V[t - 1, j] + np.log(A[j, k]) + log_eps[t, k]\n"
          ]
        }
      ],
      "source": [
        "results = {}\n",
        "strands, states = generate_data(A, b, pi_2, kappa,\n",
        "                                    tree_a, L)\n",
        "\n",
        "# Create HKY matrix\n",
        "Qs = rates_HKY(pi_2, kappa)\n",
        "# Compute likelihoods with Felsenstein's algorithm\n",
        "likelihoods = np.zeros((L,nbState))\n",
        "n_species = 8\n",
        "seqs = np.zeros((L, n_species))\n",
        "for i in range(n_species):\n",
        "  seqs[:, i] = strands[i]\n",
        "  for state in range(nbState):\n",
        "        Q = Qs[state]\n",
        "        p = pi_2[state]\n",
        "        likelihoods[:,state] = np.log(felsenstein(Q, p, tree_a, seqs))\n",
        "\n",
        "# Predict genes (Viterbi)\n",
        "results = {\"real_states\": states,\n",
        "           \"decoded_states\": viterbi(A, b, likelihoods)}\n"
      ]
    },
    {
      "cell_type": "code",
      "execution_count": 39,
      "metadata": {
        "colab": {
          "base_uri": "https://localhost:8080/"
        },
        "id": "2MFN49rQkHOH",
        "outputId": "a0ec2dad-a6a1-426f-8b08-83fe7c189ccf"
      },
      "outputs": [
        {
          "output_type": "stream",
          "name": "stdout",
          "text": [
            "Sensitivity :  0.9950439648281375\n",
            "Specificity :  0.9925368374051158\n"
          ]
        }
      ],
      "source": [
        "states = results[\"real_states\"]\n",
        "decoded_states = np.argmax(results[\"decoded_states\"],1)\n",
        "sens, spec = compute_metrics(states, decoded_states)\n",
        "print('Sensitivity : ', sens)\n",
        "print('Specificity : ', spec)"
      ]
    },
    {
      "cell_type": "markdown",
      "metadata": {
        "id": "JXnhiV8Bkhdz"
      },
      "source": [
        "## III.3 Impact of nb of species - Phylo-HMM vs HMM"
      ]
    },
    {
      "cell_type": "code",
      "execution_count": 40,
      "metadata": {
        "colab": {
          "base_uri": "https://localhost:8080/"
        },
        "outputId": "668d5839-48eb-461b-8f84-c1c2a63d0f22",
        "id": "InKEmpCswBQS"
      },
      "outputs": [
        {
          "output_type": "stream",
          "name": "stderr",
          "text": [
            "<ipython-input-24-36975b3e1eb5>:91: RuntimeWarning: divide by zero encountered in log\n",
            "  prob = V[t - 1, j] + np.log(A[j, k]) + log_eps[t, k]\n"
          ]
        },
        {
          "output_type": "stream",
          "name": "stdout",
          "text": [
            "Simulation n°0\n",
            "Simulation n°1\n",
            "Simulation n°2\n",
            "Simulation n°3\n",
            "Simulation n°4\n",
            "Simulation n°5\n",
            "Simulation n°6\n",
            "Simulation n°7\n",
            "Simulation n°8\n",
            "Simulation n°9\n",
            "Simulation n°10\n",
            "Simulation n°11\n",
            "Simulation n°12\n",
            "Simulation n°13\n",
            "Simulation n°14\n",
            "Simulation n°15\n",
            "Simulation n°16\n",
            "Simulation n°17\n",
            "Simulation n°18\n",
            "Simulation n°19\n",
            "Simulation n°20\n",
            "Simulation n°21\n",
            "Simulation n°22\n",
            "Simulation n°23\n",
            "Simulation n°24\n",
            "Simulation n°25\n",
            "Simulation n°26\n",
            "Simulation n°27\n",
            "Simulation n°28\n",
            "Simulation n°29\n",
            "Simulation n°30\n",
            "Simulation n°31\n",
            "Simulation n°32\n",
            "Simulation n°33\n",
            "Simulation n°34\n",
            "Simulation n°35\n",
            "Simulation n°36\n",
            "Simulation n°37\n",
            "Simulation n°38\n",
            "Simulation n°39\n",
            "Simulation n°40\n",
            "Simulation n°41\n",
            "Simulation n°42\n",
            "Simulation n°43\n",
            "Simulation n°44\n",
            "Simulation n°45\n",
            "Simulation n°46\n",
            "Simulation n°47\n",
            "Simulation n°48\n",
            "Simulation n°49\n",
            "Simulation n°50\n",
            "Simulation n°51\n",
            "Simulation n°52\n",
            "Simulation n°53\n",
            "Simulation n°54\n",
            "Simulation n°55\n",
            "Simulation n°56\n",
            "Simulation n°57\n",
            "Simulation n°58\n",
            "Simulation n°59\n",
            "Simulation n°60\n",
            "Simulation n°61\n",
            "Simulation n°62\n",
            "Simulation n°63\n",
            "Simulation n°64\n",
            "Simulation n°65\n",
            "Simulation n°66\n",
            "Simulation n°67\n",
            "Simulation n°68\n",
            "Simulation n°69\n",
            "Simulation n°70\n",
            "Simulation n°71\n",
            "Simulation n°72\n",
            "Simulation n°73\n",
            "Simulation n°74\n",
            "Simulation n°75\n",
            "Simulation n°76\n",
            "Simulation n°77\n",
            "Simulation n°78\n",
            "Simulation n°79\n",
            "Simulation n°80\n",
            "Simulation n°81\n",
            "Simulation n°82\n",
            "Simulation n°83\n",
            "Simulation n°84\n",
            "Simulation n°85\n",
            "Simulation n°86\n",
            "Simulation n°87\n",
            "Simulation n°88\n",
            "Simulation n°89\n",
            "Simulation n°90\n",
            "Simulation n°91\n",
            "Simulation n°92\n",
            "Simulation n°93\n",
            "Simulation n°94\n",
            "Simulation n°95\n",
            "Simulation n°96\n",
            "Simulation n°97\n",
            "Simulation n°98\n",
            "Simulation n°99\n"
          ]
        }
      ],
      "source": [
        "# number of sub trees tested\n",
        "tests = 8\n",
        "#simulations\n",
        "n_simulations = 100\n",
        "# background nucleotides frequencies\n",
        "pi = pi_1\n",
        "# length of DNA sequence generated\n",
        "L = 1000\n",
        "\n",
        "#save accuracy results\n",
        "speci = np.zeros((n_simulations, tests))\n",
        "sensi = np.zeros((n_simulations, tests))\n",
        "sensiHMM = np.zeros((n_simulations, tests))\n",
        "speciHMM = np.zeros((n_simulations, tests))\n",
        "\n",
        "for n in range(n_simulations):\n",
        "    strands, states = generate_data(A, b, pi, kappa,\n",
        "                                    tree_a, L)\n",
        "    # test impact of number of species\n",
        "    for i,sub_indices in enumerate(\n",
        "    [[6],[6,7],[6,7,8],[4,6,7,8],[2,4,6,7,8],[2,3,4,6,7,8],[1,2,3,4,6,7,8],range(1,9)]):\n",
        "\n",
        "        #redefine sequences according to the subset of species\n",
        "        strands_n = []\n",
        "        for j in sub_indices:\n",
        "          strands_n.append(strands[j-1])\n",
        "\n",
        "       # adjust the phylogenetic model to the list of species tested\n",
        "        new_tree=sub_tree(tree_a, sub_indices)\n",
        "        n_species = len(sub_indices)\n",
        "        # Predict optimal path - phylo-HMM\n",
        "        results = predict_path(strands_n, new_tree,A, b, pi, kappa)\n",
        "        # Predict optimal path - HMM\n",
        "        results_HMM = predict_path_HMM(strands_n,A,b,pi)\n",
        "        # Translate optimal paths\n",
        "        decoded_states = np.argmax(results,1)\n",
        "        decoded_HMM = np.argmax(results_HMM,1)\n",
        "        #compute accuracy metrics\n",
        "        sensi[n, i], speci[n, i] = compute_metrics(states, decoded_states)\n",
        "        sensiHMM[n,i],speciHMM[n,i] = compute_metrics(states, decoded_HMM)\n",
        "\n",
        "    print(\"Simulation n°{:d}\".format(n))"
      ]
    },
    {
      "cell_type": "code",
      "source": [
        "plot_all_results(sensi, speci, sensiHMM, speciHMM)"
      ],
      "metadata": {
        "colab": {
          "base_uri": "https://localhost:8080/",
          "height": 584
        },
        "id": "M6-ycRqjwPst",
        "outputId": "68857090-49b0-4a3c-f559-d9a2209636a0"
      },
      "execution_count": 41,
      "outputs": [
        {
          "output_type": "display_data",
          "data": {
            "text/plain": [
              "<Figure size 800x600 with 1 Axes>"
            ],
            "image/png": "[encoded data removed]"
          },
          "metadata": {}
        }
      ]
    },
    {
      "cell_type": "markdown",
      "source": [
        "## III.4 Sensitivity to model parameters"
      ],
      "metadata": {
        "id": "rnG6b7upo3e2"
      }
    },
    {
      "cell_type": "markdown",
      "source": [
        "Test the sensitivity to using different background nucleotides frequencies - pi_2"
      ],
      "metadata": {
        "id": "vPXhOv90vsOH"
      }
    },
    {
      "cell_type": "code",
      "execution_count": 42,
      "metadata": {
        "colab": {
          "base_uri": "https://localhost:8080/"
        },
        "id": "CuQV5jmdkoST",
        "outputId": "a8a981a0-d6ac-4d5f-b882-8c89c3b486a7"
      },
      "outputs": [
        {
          "output_type": "stream",
          "name": "stderr",
          "text": [
            "<ipython-input-24-36975b3e1eb5>:91: RuntimeWarning: divide by zero encountered in log\n",
            "  prob = V[t - 1, j] + np.log(A[j, k]) + log_eps[t, k]\n"
          ]
        },
        {
          "output_type": "stream",
          "name": "stdout",
          "text": [
            "Simulation n°0\n",
            "Simulation n°1\n",
            "Simulation n°2\n",
            "Simulation n°3\n",
            "Simulation n°4\n",
            "Simulation n°5\n",
            "Simulation n°6\n",
            "Simulation n°7\n",
            "Simulation n°8\n",
            "Simulation n°9\n",
            "Simulation n°10\n",
            "Simulation n°11\n",
            "Simulation n°12\n",
            "Simulation n°13\n",
            "Simulation n°14\n",
            "Simulation n°15\n",
            "Simulation n°16\n",
            "Simulation n°17\n",
            "Simulation n°18\n",
            "Simulation n°19\n",
            "Simulation n°20\n",
            "Simulation n°21\n",
            "Simulation n°22\n",
            "Simulation n°23\n",
            "Simulation n°24\n",
            "Simulation n°25\n",
            "Simulation n°26\n",
            "Simulation n°27\n",
            "Simulation n°28\n",
            "Simulation n°29\n",
            "Simulation n°30\n",
            "Simulation n°31\n",
            "Simulation n°32\n",
            "Simulation n°33\n",
            "Simulation n°34\n",
            "Simulation n°35\n",
            "Simulation n°36\n",
            "Simulation n°37\n",
            "Simulation n°38\n",
            "Simulation n°39\n",
            "Simulation n°40\n",
            "Simulation n°41\n",
            "Simulation n°42\n",
            "Simulation n°43\n",
            "Simulation n°44\n",
            "Simulation n°45\n",
            "Simulation n°46\n",
            "Simulation n°47\n",
            "Simulation n°48\n",
            "Simulation n°49\n",
            "Simulation n°50\n",
            "Simulation n°51\n",
            "Simulation n°52\n",
            "Simulation n°53\n",
            "Simulation n°54\n",
            "Simulation n°55\n",
            "Simulation n°56\n",
            "Simulation n°57\n",
            "Simulation n°58\n",
            "Simulation n°59\n",
            "Simulation n°60\n",
            "Simulation n°61\n",
            "Simulation n°62\n",
            "Simulation n°63\n",
            "Simulation n°64\n",
            "Simulation n°65\n",
            "Simulation n°66\n",
            "Simulation n°67\n",
            "Simulation n°68\n",
            "Simulation n°69\n",
            "Simulation n°70\n",
            "Simulation n°71\n",
            "Simulation n°72\n",
            "Simulation n°73\n",
            "Simulation n°74\n",
            "Simulation n°75\n",
            "Simulation n°76\n",
            "Simulation n°77\n",
            "Simulation n°78\n",
            "Simulation n°79\n",
            "Simulation n°80\n",
            "Simulation n°81\n",
            "Simulation n°82\n",
            "Simulation n°83\n",
            "Simulation n°84\n",
            "Simulation n°85\n",
            "Simulation n°86\n",
            "Simulation n°87\n",
            "Simulation n°88\n",
            "Simulation n°89\n",
            "Simulation n°90\n",
            "Simulation n°91\n",
            "Simulation n°92\n",
            "Simulation n°93\n",
            "Simulation n°94\n",
            "Simulation n°95\n",
            "Simulation n°96\n",
            "Simulation n°97\n",
            "Simulation n°98\n",
            "Simulation n°99\n"
          ]
        }
      ],
      "source": [
        "# number of sub trees tested\n",
        "tests = 8\n",
        "#simulations\n",
        "n_simulations = 100\n",
        "# background nucleotides frequencies\n",
        "pi = pi_2\n",
        "# length of DNA sequence generated\n",
        "L = 1000\n",
        "\n",
        "#save accuracy results\n",
        "speci = np.zeros((n_simulations, tests))\n",
        "sensi = np.zeros((n_simulations, tests))\n",
        "sensiHMM = np.zeros((n_simulations, tests))\n",
        "speciHMM = np.zeros((n_simulations, tests))\n",
        "\n",
        "for n in range(n_simulations):\n",
        "    strands, states = generate_data(A, b, pi, kappa,\n",
        "                                    tree_a, L)\n",
        "    # test impact of number of species\n",
        "    for i,sub_indices in enumerate(\n",
        "    [[6],[6,7],[6,7,8],[4,6,7,8],[2,4,6,7,8],[2,3,4,6,7,8],[1,2,3,4,6,7,8],range(1,9)]):\n",
        "\n",
        "        #redefine sequences according to the subset of species\n",
        "        strands_n = []\n",
        "        for j in sub_indices:\n",
        "          strands_n.append(strands[j-1])\n",
        "\n",
        "       # adjust the phylogenetic model to the list of species tested\n",
        "        new_tree=sub_tree(tree_a, sub_indices)\n",
        "        n_species = len(sub_indices)\n",
        "        # Predict optimal path - phylo-HMM\n",
        "        results = predict_path(strands_n, new_tree,A, b, pi, kappa)\n",
        "        # Predict optimal path - HMM\n",
        "        results_HMM = predict_path_HMM(strands_n,A,b,pi)\n",
        "        # Translate optimal paths\n",
        "        decoded_states = np.argmax(results,1)\n",
        "        decoded_HMM = np.argmax(results_HMM,1)\n",
        "        #compute accuracy metrics\n",
        "        sensi[n, i], speci[n, i] = compute_metrics(states, decoded_states)\n",
        "        sensiHMM[n,i],speciHMM[n,i] = compute_metrics(states, decoded_HMM)\n",
        "\n",
        "    print(\"Simulation n°{:d}\".format(n))"
      ]
    },
    {
      "cell_type": "code",
      "execution_count": 43,
      "metadata": {
        "colab": {
          "base_uri": "https://localhost:8080/",
          "height": 584
        },
        "id": "kUnSOa57RQ9Z",
        "outputId": "e1cde3bf-8e89-4bfa-cf76-1a6387e4f41d"
      },
      "outputs": [
        {
          "output_type": "display_data",
          "data": {
            "text/plain": [
              "<Figure size 800x600 with 1 Axes>"
            ],
            "image/png": "[encoded data removed]"
          },
          "metadata": {}
        }
      ],
      "source": [
        "plot_all_results(sensi, speci, sensiHMM, speciHMM)"
      ]
    }
  ],
  "metadata": {
    "colab": {
      "provenance": [],
      "toc_visible": true
    },
    "kernelspec": {
      "display_name": "Python 3",
      "name": "python3"
    },
    "language_info": {
      "name": "python"
    }
  },
  "nbformat": 4,
  "nbformat_minor": 0
}